{
 "cells": [
  {
   "cell_type": "markdown",
   "metadata": {
    "colab_type": "text",
    "id": "jQU5l7eP6Ci6"
   },
   "source": [
    "# Ejemplo de compilación y uso de OpenACC en el **google-colab**\n",
    "* En este cuaderno vamos a visualizar como poder usar la herramienta cloud de google, **google-colab** que permite el uso de GPUs de NVIDIA en el propio cloud\n",
    "* Se van a desarrollar conceptos tales como:\n",
    "    * Puesta a punto del entorno de compilación similar al utilizado en los laboratorios pero a través de este cuaderno\n",
    "    * Montaje del **google-drive** donde se van a alojar los códigos fuente y datos entrada\n",
    "    * Ejecución en una GPU en el cloud "
   ]
  },
  {
   "cell_type": "markdown",
   "metadata": {
    "colab_type": "text",
    "id": "V3u-uQDyxttA"
   },
   "source": [
    "# OpenACC\n",
    "## GCC\n",
    "* A partir de la versión 7 del GCC tiene soporte de OpenACC\n",
    "* Instalaremos el paquete correspondiente para poder hacer uso de OpenACC\n",
    "## PGI \n",
    "* NVIDIA con la compra del compilador PGI, permite también desarrollar código OpenACC con gráficas de NVIDIA\n",
    "* Se puede descargar el compiladore directamente de la url: https://www.pgroup.com/support/download_community.php?file=pgi-community-linux-x64\n",
    "\n"
   ]
  },
  {
   "cell_type": "markdown",
   "metadata": {
    "colab_type": "text",
    "id": "JUO7K_9kpvfQ"
   },
   "source": [
    "* Con la opción **offload** de GCC, se puede generar código ptx para poder hacer uso de las GPUs de NVIDIA\n",
    "   * Comprobamos que tenemos una versión de GCC soportada"
   ]
  },
  {
   "cell_type": "code",
   "execution_count": null,
   "metadata": {
    "colab": {},
    "colab_type": "code",
    "id": "Xi9gi8HHtT-O"
   },
   "outputs": [],
   "source": [
    "\n",
    "!gcc -v\n"
   ]
  },
  {
   "cell_type": "code",
   "execution_count": null,
   "metadata": {
    "colab": {},
    "colab_type": "code",
    "id": "FPEnQKHBwTWv"
   },
   "outputs": [],
   "source": [
    "!apt-get install gcc-offload-nvptx\n",
    "\n",
    "\n"
   ]
  },
  {
   "cell_type": "markdown",
   "metadata": {
    "colab_type": "text",
    "id": "fn1SI6Fk6gxG"
   },
   "source": [
    "## Selección de la GPU\n",
    "* Para crear una instancia con GPU es importante seleccionar el entorno de adecuado\n",
    "* En el menú **Runtime**, apartado **Change Runtime Type**, seleccionar en el Hardware accelerator GPU\n",
    "    * NOTA: Si ha sido adecuadamente, al ejecutar el nvidia-smi debería de obtenerse la GPU seleccionada"
   ]
  },
  {
   "cell_type": "code",
   "execution_count": null,
   "metadata": {
    "colab": {
     "base_uri": "https://localhost:8080/",
     "height": 326
    },
    "colab_type": "code",
    "executionInfo": {
     "elapsed": 2492,
     "status": "ok",
     "timestamp": 1588009621128,
     "user": {
      "displayName": "CARLOS GARCIA SANCHEZ",
      "photoUrl": "",
      "userId": "05509868482394843854"
     },
     "user_tz": -120
    },
    "id": "erulPzvA685f",
    "outputId": "466a131e-ff26-41f5-84bc-d8db333cd5a1"
   },
   "outputs": [],
   "source": [
    "!nvidia-smi"
   ]
  },
  {
   "cell_type": "markdown",
   "metadata": {
    "colab_type": "text",
    "id": "D10GN4Nr-SEK"
   },
   "source": [
    "## Ejemplo 0\n",
    "* Vamos a ilustrar como poder usar el **google-colab** con el Ejemplo0\n",
    "* El ejemplo se encuentra disponible en el Campus Virtual"
   ]
  },
  {
   "cell_type": "markdown",
   "metadata": {
    "colab_type": "text",
    "id": "Fx2H95EQ7L3M"
   },
   "source": [
    "### Montaje del Drive\n",
    "* En el apartado **Files** de la ventana a la izquierda se puede montar la unidad *Drive* donde previamente podríamos haber descargado alguna práctica\n",
    "* Para comprobar el funcionamiento correcto, podemos cambiar al directorio elegido con el comando de python **os.chdir** y la ruta del directorio selecionado"
   ]
  },
  {
   "cell_type": "code",
   "execution_count": null,
   "metadata": {
    "colab": {
     "base_uri": "https://localhost:8080/",
     "height": 35
    },
    "colab_type": "code",
    "executionInfo": {
     "elapsed": 2007,
     "status": "ok",
     "timestamp": 1588011835717,
     "user": {
      "displayName": "CARLOS GARCIA SANCHEZ",
      "photoUrl": "",
      "userId": "05509868482394843854"
     },
     "user_tz": -120
    },
    "id": "AXgIczNOmEbh",
    "outputId": "48fe541d-99d5-464d-a80f-984ce15679c5"
   },
   "outputs": [],
   "source": [
    "from google.colab import drive\n",
    "drive.mount('/content/drive')"
   ]
  },
  {
   "cell_type": "code",
   "execution_count": null,
   "metadata": {
    "colab": {
     "base_uri": "https://localhost:8080/",
     "height": 54
    },
    "colab_type": "code",
    "executionInfo": {
     "elapsed": 2519,
     "status": "ok",
     "timestamp": 1588014448537,
     "user": {
      "displayName": "CARLOS GARCIA SANCHEZ",
      "photoUrl": "",
      "userId": "05509868482394843854"
     },
     "user_tz": -120
    },
    "id": "sZTWQNTAz9Ec",
    "outputId": "ea10e784-fa7f-4381-d9a9-abc701340437"
   },
   "outputs": [],
   "source": [
    "import os\n",
    "os.chdir(r\"/content/drive/My Drive/Docencia/GPU/Practica3/Ejemplo0\") \n",
    "  \n",
    "print(\"Directory changed\")\n",
    "!ls"
   ]
  },
  {
   "cell_type": "markdown",
   "metadata": {
    "colab_type": "text",
    "id": "iSMDsg038EWU"
   },
   "source": [
    "### Compilación\n",
    "* Para compilar podemos ejecutar el comando **make** de forma análoga a como lo haríamos por consola"
   ]
  },
  {
   "cell_type": "code",
   "execution_count": null,
   "metadata": {
    "colab": {
     "base_uri": "https://localhost:8080/",
     "height": 35
    },
    "colab_type": "code",
    "executionInfo": {
     "elapsed": 3236,
     "status": "ok",
     "timestamp": 1588014507940,
     "user": {
      "displayName": "CARLOS GARCIA SANCHEZ",
      "photoUrl": "",
      "userId": "05509868482394843854"
     },
     "user_tz": -120
    },
    "id": "cNEvWbdY9Ygp",
    "outputId": "fce5fdb4-6bf6-43a6-f770-f7b99597fad1"
   },
   "outputs": [],
   "source": [
    "!make -f Makefile.colab clean"
   ]
  },
  {
   "cell_type": "code",
   "execution_count": null,
   "metadata": {
    "colab": {
     "base_uri": "https://localhost:8080/",
     "height": 54
    },
    "colab_type": "code",
    "executionInfo": {
     "elapsed": 3832,
     "status": "ok",
     "timestamp": 1588014512928,
     "user": {
      "displayName": "CARLOS GARCIA SANCHEZ",
      "photoUrl": "",
      "userId": "05509868482394843854"
     },
     "user_tz": -120
    },
    "id": "pXWPf10luDtN",
    "outputId": "bb79e913-b06f-4b3f-fff2-0847280cf06c"
   },
   "outputs": [],
   "source": [
    "!make -f Makefile.colab"
   ]
  },
  {
   "cell_type": "code",
   "execution_count": null,
   "metadata": {
    "colab": {
     "base_uri": "https://localhost:8080/",
     "height": 72
    },
    "colab_type": "code",
    "executionInfo": {
     "elapsed": 3180,
     "status": "ok",
     "timestamp": 1588014516930,
     "user": {
      "displayName": "CARLOS GARCIA SANCHEZ",
      "photoUrl": "",
      "userId": "05509868482394843854"
     },
     "user_tz": -120
    },
    "id": "9ze-AwfL8CVk",
    "outputId": "1365fa81-9647-48fa-bcf7-b93cbb300c2c"
   },
   "outputs": [],
   "source": [
    "!./hello.gcc.exe"
   ]
  },
  {
   "cell_type": "markdown",
   "metadata": {
    "colab_type": "text",
    "id": "c30xZpJf8aa5"
   },
   "source": [
    "## Ejemplo 1\n",
    "* Podriamos ejecutar el ejecutable **axpy** con de forma similar al caso anterior"
   ]
  },
  {
   "cell_type": "code",
   "execution_count": null,
   "metadata": {
    "colab": {
     "base_uri": "https://localhost:8080/",
     "height": 72
    },
    "colab_type": "code",
    "executionInfo": {
     "elapsed": 2864,
     "status": "ok",
     "timestamp": 1588014657410,
     "user": {
      "displayName": "CARLOS GARCIA SANCHEZ",
      "photoUrl": "",
      "userId": "05509868482394843854"
     },
     "user_tz": -120
    },
    "id": "ZTZdUqHK8oYy",
    "outputId": "bb30f7fd-4a2c-4cec-f08a-3befb523c0a5"
   },
   "outputs": [],
   "source": [
    "import os\n",
    "os.chdir(r\"/content/drive/My Drive/Docencia/GPU/Practica3/Ejemplo1\") \n",
    "  \n",
    "print(\"Directory changed\")\n",
    "!ls"
   ]
  },
  {
   "cell_type": "code",
   "execution_count": null,
   "metadata": {
    "colab": {
     "base_uri": "https://localhost:8080/",
     "height": 54
    },
    "colab_type": "code",
    "executionInfo": {
     "elapsed": 4114,
     "status": "ok",
     "timestamp": 1588014674306,
     "user": {
      "displayName": "CARLOS GARCIA SANCHEZ",
      "photoUrl": "",
      "userId": "05509868482394843854"
     },
     "user_tz": -120
    },
    "id": "gfxTzG3xDNfb",
    "outputId": "e1c12018-e949-4838-ccfb-b281d888ea7b"
   },
   "outputs": [],
   "source": [
    "!make -f Makefile.colab"
   ]
  },
  {
   "cell_type": "code",
   "execution_count": null,
   "metadata": {
    "colab": {
     "base_uri": "https://localhost:8080/",
     "height": 72
    },
    "colab_type": "code",
    "executionInfo": {
     "elapsed": 3384,
     "status": "ok",
     "timestamp": 1588014702322,
     "user": {
      "displayName": "CARLOS GARCIA SANCHEZ",
      "photoUrl": "",
      "userId": "05509868482394843854"
     },
     "user_tz": -120
    },
    "id": "T1eHy6SvDP7C",
    "outputId": "777f5560-2b04-45a2-fcf2-7daa0a0bdf15"
   },
   "outputs": [],
   "source": [
    "!./axpy.gcc.exe 100000"
   ]
  }
 ],
 "metadata": {
  "accelerator": "GPU",
  "colab": {
   "collapsed_sections": [],
   "name": "OpenACC_en_colab.ipynb",
   "provenance": [],
   "toc_visible": true
  },
  "kernelspec": {
   "display_name": "Python 3",
   "language": "python",
   "name": "python3"
  },
  "language_info": {
   "codemirror_mode": {
    "name": "ipython",
    "version": 3
   },
   "file_extension": ".py",
   "mimetype": "text/x-python",
   "name": "python",
   "nbconvert_exporter": "python",
   "pygments_lexer": "ipython3",
   "version": "3.7.3"
  }
 },
 "nbformat": 4,
 "nbformat_minor": 1
}
